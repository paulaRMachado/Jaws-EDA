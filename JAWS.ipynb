{
 "cells": [
  {
   "cell_type": "code",
   "execution_count": 89,
   "id": "1f9f9789",
   "metadata": {},
   "outputs": [],
   "source": [
    "import pandas as pd"
   ]
  },
  {
   "cell_type": "code",
   "execution_count": 98,
   "id": "711e43f7",
   "metadata": {},
   "outputs": [
    {
     "name": "stdout",
     "output_type": "stream",
     "text": [
      "(25723, 24)\n"
     ]
    }
   ],
   "source": [
    "jaws = pd.read_csv(\"data/global_shark_attacks.csv\")\n",
    "print(jaws.shape)"
   ]
  },
  {
   "cell_type": "code",
   "execution_count": 99,
   "id": "251e0fab",
   "metadata": {},
   "outputs": [
    {
     "data": {
      "text/html": [
       "<div>\n",
       "<style scoped>\n",
       "    .dataframe tbody tr th:only-of-type {\n",
       "        vertical-align: middle;\n",
       "    }\n",
       "\n",
       "    .dataframe tbody tr th {\n",
       "        vertical-align: top;\n",
       "    }\n",
       "\n",
       "    .dataframe thead th {\n",
       "        text-align: right;\n",
       "    }\n",
       "</style>\n",
       "<table border=\"1\" class=\"dataframe\">\n",
       "  <thead>\n",
       "    <tr style=\"text-align: right;\">\n",
       "      <th></th>\n",
       "      <th>Case Number</th>\n",
       "      <th>Date</th>\n",
       "      <th>Year</th>\n",
       "      <th>Type</th>\n",
       "      <th>Country</th>\n",
       "      <th>Area</th>\n",
       "      <th>Location</th>\n",
       "      <th>Activity</th>\n",
       "      <th>Name</th>\n",
       "      <th>Sex</th>\n",
       "      <th>...</th>\n",
       "      <th>Species</th>\n",
       "      <th>Investigator or Source</th>\n",
       "      <th>pdf</th>\n",
       "      <th>href formula</th>\n",
       "      <th>href</th>\n",
       "      <th>Case Number.1</th>\n",
       "      <th>Case Number.2</th>\n",
       "      <th>original order</th>\n",
       "      <th>Unnamed: 22</th>\n",
       "      <th>Unnamed: 23</th>\n",
       "    </tr>\n",
       "  </thead>\n",
       "  <tbody>\n",
       "    <tr>\n",
       "      <th>2536</th>\n",
       "      <td>1992.09.00</td>\n",
       "      <td>Sep-1992</td>\n",
       "      <td>1992.0</td>\n",
       "      <td>Unprovoked</td>\n",
       "      <td>USA</td>\n",
       "      <td>Florida</td>\n",
       "      <td>St Lucie County</td>\n",
       "      <td>Surf fishing</td>\n",
       "      <td>male</td>\n",
       "      <td>M</td>\n",
       "      <td>...</td>\n",
       "      <td>NaN</td>\n",
       "      <td>Fort Pierce Tribune, 11/24/1992 &amp; 11/30/1992</td>\n",
       "      <td>1992.09.00-surf-fisherman.pdf</td>\n",
       "      <td>http://sharkattackfile.net/spreadsheets/pdf_di...</td>\n",
       "      <td>http://sharkattackfile.net/spreadsheets/pdf_di...</td>\n",
       "      <td>1992.09.00</td>\n",
       "      <td>1992.09.00</td>\n",
       "      <td>3767.0</td>\n",
       "      <td>NaN</td>\n",
       "      <td>NaN</td>\n",
       "    </tr>\n",
       "  </tbody>\n",
       "</table>\n",
       "<p>1 rows × 24 columns</p>\n",
       "</div>"
      ],
      "text/plain": [
       "     Case Number      Date    Year        Type Country     Area   \n",
       "2536  1992.09.00  Sep-1992  1992.0  Unprovoked     USA  Florida  \\\n",
       "\n",
       "             Location      Activity  Name Sex   ... Species    \n",
       "2536  St Lucie County  Surf fishing  male    M  ...      NaN  \\\n",
       "\n",
       "                            Investigator or Source   \n",
       "2536  Fort Pierce Tribune, 11/24/1992 & 11/30/1992  \\\n",
       "\n",
       "                                pdf   \n",
       "2536  1992.09.00-surf-fisherman.pdf  \\\n",
       "\n",
       "                                           href formula   \n",
       "2536  http://sharkattackfile.net/spreadsheets/pdf_di...  \\\n",
       "\n",
       "                                                   href Case Number.1   \n",
       "2536  http://sharkattackfile.net/spreadsheets/pdf_di...    1992.09.00  \\\n",
       "\n",
       "     Case Number.2 original order Unnamed: 22 Unnamed: 23  \n",
       "2536    1992.09.00         3767.0         NaN         NaN  \n",
       "\n",
       "[1 rows x 24 columns]"
      ]
     },
     "execution_count": 99,
     "metadata": {},
     "output_type": "execute_result"
    }
   ],
   "source": [
    "jaws.drop_duplicates(inplace=True)\n",
    "jaws.sample()\n"
   ]
  },
  {
   "cell_type": "code",
   "execution_count": 100,
   "id": "c97acb57",
   "metadata": {},
   "outputs": [
    {
     "data": {
      "text/html": [
       "<div>\n",
       "<style scoped>\n",
       "    .dataframe tbody tr th:only-of-type {\n",
       "        vertical-align: middle;\n",
       "    }\n",
       "\n",
       "    .dataframe tbody tr th {\n",
       "        vertical-align: top;\n",
       "    }\n",
       "\n",
       "    .dataframe thead th {\n",
       "        text-align: right;\n",
       "    }\n",
       "</style>\n",
       "<table border=\"1\" class=\"dataframe\">\n",
       "  <thead>\n",
       "    <tr style=\"text-align: right;\">\n",
       "      <th></th>\n",
       "      <th>Date</th>\n",
       "      <th>Year</th>\n",
       "      <th>Type</th>\n",
       "      <th>Country</th>\n",
       "      <th>Area</th>\n",
       "      <th>Location</th>\n",
       "      <th>Activity</th>\n",
       "      <th>Name</th>\n",
       "      <th>Sex</th>\n",
       "      <th>Age</th>\n",
       "      <th>Injury</th>\n",
       "      <th>Fatal (Y/N)</th>\n",
       "      <th>Time</th>\n",
       "      <th>Species</th>\n",
       "      <th>Investigator or Source</th>\n",
       "      <th>original order</th>\n",
       "    </tr>\n",
       "  </thead>\n",
       "  <tbody>\n",
       "    <tr>\n",
       "      <th>0</th>\n",
       "      <td>25-Jun-2018</td>\n",
       "      <td>2018.0</td>\n",
       "      <td>Boating</td>\n",
       "      <td>USA</td>\n",
       "      <td>California</td>\n",
       "      <td>Oceanside, San Diego County</td>\n",
       "      <td>Paddling</td>\n",
       "      <td>Julie Wolfe</td>\n",
       "      <td>F</td>\n",
       "      <td>57</td>\n",
       "      <td>No injury to occupant, outrigger canoe and pad...</td>\n",
       "      <td>N</td>\n",
       "      <td>18h00</td>\n",
       "      <td>White shark</td>\n",
       "      <td>R. Collier, GSAF</td>\n",
       "      <td>6303.0</td>\n",
       "    </tr>\n",
       "    <tr>\n",
       "      <th>1</th>\n",
       "      <td>18-Jun-2018</td>\n",
       "      <td>2018.0</td>\n",
       "      <td>Unprovoked</td>\n",
       "      <td>USA</td>\n",
       "      <td>Georgia</td>\n",
       "      <td>St. Simon Island, Glynn County</td>\n",
       "      <td>Standing</td>\n",
       "      <td>Adyson�McNeely</td>\n",
       "      <td>F</td>\n",
       "      <td>11</td>\n",
       "      <td>Minor injury to left thigh</td>\n",
       "      <td>N</td>\n",
       "      <td>14h00  -15h00</td>\n",
       "      <td>NaN</td>\n",
       "      <td>K.McMurray, TrackingSharks.com</td>\n",
       "      <td>6302.0</td>\n",
       "    </tr>\n",
       "    <tr>\n",
       "      <th>2</th>\n",
       "      <td>09-Jun-2018</td>\n",
       "      <td>2018.0</td>\n",
       "      <td>Invalid</td>\n",
       "      <td>USA</td>\n",
       "      <td>Hawaii</td>\n",
       "      <td>Habush, Oahu</td>\n",
       "      <td>Surfing</td>\n",
       "      <td>John Denges</td>\n",
       "      <td>M</td>\n",
       "      <td>48</td>\n",
       "      <td>Injury to left lower leg from surfboard skeg</td>\n",
       "      <td>N</td>\n",
       "      <td>07h45</td>\n",
       "      <td>NaN</td>\n",
       "      <td>K.McMurray, TrackingSharks.com</td>\n",
       "      <td>6301.0</td>\n",
       "    </tr>\n",
       "    <tr>\n",
       "      <th>3</th>\n",
       "      <td>08-Jun-2018</td>\n",
       "      <td>2018.0</td>\n",
       "      <td>Unprovoked</td>\n",
       "      <td>AUSTRALIA</td>\n",
       "      <td>New South Wales</td>\n",
       "      <td>Arrawarra Headland</td>\n",
       "      <td>Surfing</td>\n",
       "      <td>male</td>\n",
       "      <td>M</td>\n",
       "      <td>NaN</td>\n",
       "      <td>Minor injury to lower leg</td>\n",
       "      <td>N</td>\n",
       "      <td>NaN</td>\n",
       "      <td>2 m shark</td>\n",
       "      <td>B. Myatt, GSAF</td>\n",
       "      <td>6300.0</td>\n",
       "    </tr>\n",
       "    <tr>\n",
       "      <th>4</th>\n",
       "      <td>04-Jun-2018</td>\n",
       "      <td>2018.0</td>\n",
       "      <td>Provoked</td>\n",
       "      <td>MEXICO</td>\n",
       "      <td>Colima</td>\n",
       "      <td>La Ticla</td>\n",
       "      <td>Free diving</td>\n",
       "      <td>Gustavo Ramos</td>\n",
       "      <td>M</td>\n",
       "      <td>NaN</td>\n",
       "      <td>Lacerations to leg &amp; hand shark PROVOKED INCIDENT</td>\n",
       "      <td>N</td>\n",
       "      <td>NaN</td>\n",
       "      <td>Tiger shark, 3m</td>\n",
       "      <td>A .Kipper</td>\n",
       "      <td>6299.0</td>\n",
       "    </tr>\n",
       "  </tbody>\n",
       "</table>\n",
       "</div>"
      ],
      "text/plain": [
       "          Date    Year        Type    Country             Area   \n",
       "0  25-Jun-2018  2018.0     Boating        USA       California  \\\n",
       "1  18-Jun-2018  2018.0  Unprovoked        USA          Georgia   \n",
       "2  09-Jun-2018  2018.0     Invalid        USA           Hawaii   \n",
       "3  08-Jun-2018  2018.0  Unprovoked  AUSTRALIA  New South Wales   \n",
       "4  04-Jun-2018  2018.0    Provoked     MEXICO           Colima   \n",
       "\n",
       "                         Location     Activity             Name Sex   Age   \n",
       "0     Oceanside, San Diego County     Paddling      Julie Wolfe    F   57  \\\n",
       "1  St. Simon Island, Glynn County     Standing  Adyson�McNeely     F   11   \n",
       "2                    Habush, Oahu      Surfing      John Denges    M   48   \n",
       "3              Arrawarra Headland      Surfing             male    M  NaN   \n",
       "4                        La Ticla  Free diving   Gustavo Ramos     M  NaN   \n",
       "\n",
       "                                              Injury Fatal (Y/N)   \n",
       "0  No injury to occupant, outrigger canoe and pad...           N  \\\n",
       "1                         Minor injury to left thigh           N   \n",
       "2       Injury to left lower leg from surfboard skeg           N   \n",
       "3                          Minor injury to lower leg           N   \n",
       "4  Lacerations to leg & hand shark PROVOKED INCIDENT           N   \n",
       "\n",
       "            Time         Species           Investigator or Source   \n",
       "0          18h00      White shark                R. Collier, GSAF  \\\n",
       "1  14h00  -15h00              NaN  K.McMurray, TrackingSharks.com   \n",
       "2          07h45              NaN  K.McMurray, TrackingSharks.com   \n",
       "3            NaN        2 m shark                  B. Myatt, GSAF   \n",
       "4            NaN  Tiger shark, 3m                       A .Kipper   \n",
       "\n",
       "   original order  \n",
       "0          6303.0  \n",
       "1          6302.0  \n",
       "2          6301.0  \n",
       "3          6300.0  \n",
       "4          6299.0  "
      ]
     },
     "execution_count": 100,
     "metadata": {},
     "output_type": "execute_result"
    }
   ],
   "source": [
    "jaws.drop(columns=['pdf', 'href formula', 'href', 'Unnamed: 22', 'Unnamed: 23', 'Case Number', 'Case Number.1','Case Number.2'], inplace=True)\n",
    "jaws.head()"
   ]
  },
  {
   "cell_type": "code",
   "execution_count": 101,
   "id": "0c74dd00",
   "metadata": {},
   "outputs": [
    {
     "name": "stdout",
     "output_type": "stream",
     "text": [
      "<class 'pandas.core.frame.DataFrame'>\n",
      "Index: 6312 entries, 0 to 25722\n",
      "Data columns (total 16 columns):\n",
      " #   Column                  Non-Null Count  Dtype  \n",
      "---  ------                  --------------  -----  \n",
      " 0   Date                    6302 non-null   object \n",
      " 1   Year                    6300 non-null   float64\n",
      " 2   Type                    6298 non-null   object \n",
      " 3   Country                 6252 non-null   object \n",
      " 4   Area                    5847 non-null   object \n",
      " 5   Location                5762 non-null   object \n",
      " 6   Activity                5758 non-null   object \n",
      " 7   Name                    6092 non-null   object \n",
      " 8   Sex                     5737 non-null   object \n",
      " 9   Age                     3471 non-null   object \n",
      " 10  Injury                  6274 non-null   object \n",
      " 11  Fatal (Y/N)             5763 non-null   object \n",
      " 12  Time                    2948 non-null   object \n",
      " 13  Species                 3464 non-null   object \n",
      " 14  Investigator or Source  6285 non-null   object \n",
      " 15  original order          6309 non-null   float64\n",
      "dtypes: float64(2), object(14)\n",
      "memory usage: 838.3+ KB\n"
     ]
    }
   ],
   "source": [
    "jaws.info()"
   ]
  },
  {
   "cell_type": "code",
   "execution_count": 102,
   "id": "0d706a36",
   "metadata": {},
   "outputs": [],
   "source": [
    "jaws.columns = [i.lower().replace(\" \", \"-\") for i in jaws.columns]"
   ]
  },
  {
   "cell_type": "code",
   "execution_count": 103,
   "id": "c5144302",
   "metadata": {},
   "outputs": [
    {
     "data": {
      "text/html": [
       "<div>\n",
       "<style scoped>\n",
       "    .dataframe tbody tr th:only-of-type {\n",
       "        vertical-align: middle;\n",
       "    }\n",
       "\n",
       "    .dataframe tbody tr th {\n",
       "        vertical-align: top;\n",
       "    }\n",
       "\n",
       "    .dataframe thead th {\n",
       "        text-align: right;\n",
       "    }\n",
       "</style>\n",
       "<table border=\"1\" class=\"dataframe\">\n",
       "  <thead>\n",
       "    <tr style=\"text-align: right;\">\n",
       "      <th></th>\n",
       "      <th>date</th>\n",
       "      <th>year</th>\n",
       "      <th>type</th>\n",
       "      <th>country</th>\n",
       "      <th>area</th>\n",
       "      <th>location</th>\n",
       "      <th>activity</th>\n",
       "      <th>name</th>\n",
       "      <th>sex</th>\n",
       "      <th>age</th>\n",
       "      <th>injury</th>\n",
       "      <th>fatal</th>\n",
       "      <th>time</th>\n",
       "      <th>species</th>\n",
       "      <th>investigator-or-source</th>\n",
       "      <th>original-order</th>\n",
       "    </tr>\n",
       "  </thead>\n",
       "  <tbody>\n",
       "    <tr>\n",
       "      <th>0</th>\n",
       "      <td>25-Jun-2018</td>\n",
       "      <td>2018.0</td>\n",
       "      <td>Boating</td>\n",
       "      <td>USA</td>\n",
       "      <td>California</td>\n",
       "      <td>Oceanside, San Diego County</td>\n",
       "      <td>Paddling</td>\n",
       "      <td>Julie Wolfe</td>\n",
       "      <td>F</td>\n",
       "      <td>57</td>\n",
       "      <td>No injury to occupant, outrigger canoe and pad...</td>\n",
       "      <td>N</td>\n",
       "      <td>18h00</td>\n",
       "      <td>White shark</td>\n",
       "      <td>R. Collier, GSAF</td>\n",
       "      <td>6303.0</td>\n",
       "    </tr>\n",
       "    <tr>\n",
       "      <th>1</th>\n",
       "      <td>18-Jun-2018</td>\n",
       "      <td>2018.0</td>\n",
       "      <td>Unprovoked</td>\n",
       "      <td>USA</td>\n",
       "      <td>Georgia</td>\n",
       "      <td>St. Simon Island, Glynn County</td>\n",
       "      <td>Standing</td>\n",
       "      <td>Adyson�McNeely</td>\n",
       "      <td>F</td>\n",
       "      <td>11</td>\n",
       "      <td>Minor injury to left thigh</td>\n",
       "      <td>N</td>\n",
       "      <td>14h00  -15h00</td>\n",
       "      <td>NaN</td>\n",
       "      <td>K.McMurray, TrackingSharks.com</td>\n",
       "      <td>6302.0</td>\n",
       "    </tr>\n",
       "    <tr>\n",
       "      <th>2</th>\n",
       "      <td>09-Jun-2018</td>\n",
       "      <td>2018.0</td>\n",
       "      <td>Invalid</td>\n",
       "      <td>USA</td>\n",
       "      <td>Hawaii</td>\n",
       "      <td>Habush, Oahu</td>\n",
       "      <td>Surfing</td>\n",
       "      <td>John Denges</td>\n",
       "      <td>M</td>\n",
       "      <td>48</td>\n",
       "      <td>Injury to left lower leg from surfboard skeg</td>\n",
       "      <td>N</td>\n",
       "      <td>07h45</td>\n",
       "      <td>NaN</td>\n",
       "      <td>K.McMurray, TrackingSharks.com</td>\n",
       "      <td>6301.0</td>\n",
       "    </tr>\n",
       "    <tr>\n",
       "      <th>3</th>\n",
       "      <td>08-Jun-2018</td>\n",
       "      <td>2018.0</td>\n",
       "      <td>Unprovoked</td>\n",
       "      <td>AUSTRALIA</td>\n",
       "      <td>New South Wales</td>\n",
       "      <td>Arrawarra Headland</td>\n",
       "      <td>Surfing</td>\n",
       "      <td>male</td>\n",
       "      <td>M</td>\n",
       "      <td>NaN</td>\n",
       "      <td>Minor injury to lower leg</td>\n",
       "      <td>N</td>\n",
       "      <td>NaN</td>\n",
       "      <td>2 m shark</td>\n",
       "      <td>B. Myatt, GSAF</td>\n",
       "      <td>6300.0</td>\n",
       "    </tr>\n",
       "    <tr>\n",
       "      <th>4</th>\n",
       "      <td>04-Jun-2018</td>\n",
       "      <td>2018.0</td>\n",
       "      <td>Provoked</td>\n",
       "      <td>MEXICO</td>\n",
       "      <td>Colima</td>\n",
       "      <td>La Ticla</td>\n",
       "      <td>Free diving</td>\n",
       "      <td>Gustavo Ramos</td>\n",
       "      <td>M</td>\n",
       "      <td>NaN</td>\n",
       "      <td>Lacerations to leg &amp; hand shark PROVOKED INCIDENT</td>\n",
       "      <td>N</td>\n",
       "      <td>NaN</td>\n",
       "      <td>Tiger shark, 3m</td>\n",
       "      <td>A .Kipper</td>\n",
       "      <td>6299.0</td>\n",
       "    </tr>\n",
       "  </tbody>\n",
       "</table>\n",
       "</div>"
      ],
      "text/plain": [
       "          date    year        type    country             area   \n",
       "0  25-Jun-2018  2018.0     Boating        USA       California  \\\n",
       "1  18-Jun-2018  2018.0  Unprovoked        USA          Georgia   \n",
       "2  09-Jun-2018  2018.0     Invalid        USA           Hawaii   \n",
       "3  08-Jun-2018  2018.0  Unprovoked  AUSTRALIA  New South Wales   \n",
       "4  04-Jun-2018  2018.0    Provoked     MEXICO           Colima   \n",
       "\n",
       "                         location     activity             name sex  age   \n",
       "0     Oceanside, San Diego County     Paddling      Julie Wolfe   F   57  \\\n",
       "1  St. Simon Island, Glynn County     Standing  Adyson�McNeely    F   11   \n",
       "2                    Habush, Oahu      Surfing      John Denges   M   48   \n",
       "3              Arrawarra Headland      Surfing             male   M  NaN   \n",
       "4                        La Ticla  Free diving   Gustavo Ramos    M  NaN   \n",
       "\n",
       "                                              injury fatal           time   \n",
       "0  No injury to occupant, outrigger canoe and pad...     N          18h00  \\\n",
       "1                         Minor injury to left thigh     N  14h00  -15h00   \n",
       "2       Injury to left lower leg from surfboard skeg     N          07h45   \n",
       "3                          Minor injury to lower leg     N            NaN   \n",
       "4  Lacerations to leg & hand shark PROVOKED INCIDENT     N            NaN   \n",
       "\n",
       "           species          investigator-or-source  original-order  \n",
       "0      White shark                R. Collier, GSAF          6303.0  \n",
       "1              NaN  K.McMurray, TrackingSharks.com          6302.0  \n",
       "2              NaN  K.McMurray, TrackingSharks.com          6301.0  \n",
       "3        2 m shark                  B. Myatt, GSAF          6300.0  \n",
       "4  Tiger shark, 3m                       A .Kipper          6299.0  "
      ]
     },
     "execution_count": 103,
     "metadata": {},
     "output_type": "execute_result"
    }
   ],
   "source": [
    "jaws_renamed = jaws.rename(columns={\"species-\": \"species\", \"sex-\":\"sex\", \"fatal-(y/n)\":\"fatal\"})\n",
    "jaws_renamed.head()"
   ]
  },
  {
   "cell_type": "code",
   "execution_count": 104,
   "id": "ff24c335",
   "metadata": {},
   "outputs": [
    {
     "data": {
      "text/plain": [
       "1069"
      ]
     },
     "execution_count": 104,
     "metadata": {},
     "output_type": "execute_result"
    }
   ],
   "source": [
    "jaws_renamed.species.unique()\n",
    "s = \"white\" #risky?\n",
    "jaws_renamed[\"species\"] = [ s if s in str(i).lower() else i for i in jaws_renamed[\"species\"] ]\n",
    "\n",
    "t = \"tiger\" #risky?\n",
    "jaws_renamed[\"species\"] = [ t if t in str(i).lower() else i for i in jaws_renamed[\"species\"] ]\n",
    "\n",
    "len(jaws_renamed.species.unique())\n",
    "#Oh my!!!"
   ]
  },
  {
   "cell_type": "code",
   "execution_count": 105,
   "id": "a92e87be",
   "metadata": {},
   "outputs": [
    {
     "data": {
      "text/plain": [
       "array(['Boating', 'Unprovoked', 'Invalid', 'Provoked', 'Questionable',\n",
       "       'Sea Disaster', nan, 'Boat', 'Boatomg'], dtype=object)"
      ]
     },
     "execution_count": 105,
     "metadata": {},
     "output_type": "execute_result"
    }
   ],
   "source": [
    "jaws_renamed.type.unique()"
   ]
  },
  {
   "cell_type": "code",
   "execution_count": 107,
   "id": "cc0a2fce",
   "metadata": {},
   "outputs": [
    {
     "data": {
      "text/plain": [
       "array(['Boating', 'Unprovoked', 'Invalid', 'Provoked', 'Questionable',\n",
       "       'Sea Disaster', nan], dtype=object)"
      ]
     },
     "execution_count": 107,
     "metadata": {},
     "output_type": "execute_result"
    }
   ],
   "source": [
    "jaws_renamed.type.replace(\"Boatomg\", \"Boating\", inplace=True)\n",
    "jaws_renamed.type.replace(\"Boat\", \"Boating\", inplace=True)\n",
    "jaws_renamed.type.unique()"
   ]
  },
  {
   "cell_type": "code",
   "execution_count": 45,
   "id": "0a658f84",
   "metadata": {},
   "outputs": [
    {
     "name": "stdout",
     "output_type": "stream",
     "text": [
      "1529\n"
     ]
    }
   ],
   "source": [
    "\"\"\"My feeble atempt\n",
    "jaws_renamed.activity.replace(\"Crew swimming alongside their anchored ship\", \"Swimming\", inplace=True)\n",
    "jaws_renamed.activity.replace(\"4 men were bathing\", \"Swimming\", inplace=True)\n",
    "jaws_renamed.activity.replace(\"Swimming in pool formed by construction of a wharf\", \"Swimming\", inplace=True)\n",
    "jaws_renamed.activity.replace(\"Swimming around anchored ship\", \"Swimming\", inplace=True)\"\"\" \n",
    "print(len(jaws_renamed.activity.unique()))"
   ]
  },
  {
   "cell_type": "code",
   "execution_count": 108,
   "id": "94f4c8b9",
   "metadata": {},
   "outputs": [
    {
     "data": {
      "text/plain": [
       "1512"
      ]
     },
     "execution_count": 108,
     "metadata": {},
     "output_type": "execute_result"
    }
   ],
   "source": [
    "#new atempt\n",
    "n = \"wreck\"\n",
    "jaws_renamed[\"activity\"] = [ n if n in str(i) else i for i in jaws_renamed[\"activity\"] ]\n",
    "len(jaws_renamed.activity.unique())"
   ]
  },
  {
   "cell_type": "code",
   "execution_count": 109,
   "id": "aacb2077",
   "metadata": {},
   "outputs": [
    {
     "data": {
      "text/plain": [
       "931"
      ]
     },
     "execution_count": 109,
     "metadata": {},
     "output_type": "execute_result"
    }
   ],
   "source": [
    "s = \"swim\"\n",
    "jaws_renamed[\"activity\"] = [ s if s in str(i).lower() else i for i in jaws_renamed[\"activity\"] ]\n",
    "b = \"bathing\"\n",
    "jaws_renamed[\"activity\"] = [ b if b in str(i).lower() else i for i in jaws_renamed[\"activity\"] ]\n",
    "o = \"surf\"\n",
    "jaws_renamed[\"activity\"] = [ o if o in str(i).lower() else i for i in jaws_renamed[\"activity\"] ]\n",
    "u = \"fishing\"\n",
    "jaws_renamed[\"activity\"] = [ u if u in str(i).lower() else i for i in jaws_renamed[\"activity\"] ]\n",
    "len(jaws_renamed.activity.unique())"
   ]
  },
  {
   "cell_type": "code",
   "execution_count": 110,
   "id": "28bd04f6",
   "metadata": {},
   "outputs": [
    {
     "data": {
      "text/plain": [
       "array(['F', 'M', nan, 'lli', 'N', '.'], dtype=object)"
      ]
     },
     "execution_count": 110,
     "metadata": {},
     "output_type": "execute_result"
    }
   ],
   "source": [
    "\"\"\" Cleaning the column sex\"\"\"\n",
    "jaws_renamed.sex.replace(\"M \", \"M\", inplace=True)\n",
    "jaws_renamed.sex.unique()"
   ]
  },
  {
   "cell_type": "code",
   "execution_count": 113,
   "id": "6519638a",
   "metadata": {},
   "outputs": [
    {
     "data": {
      "text/html": [
       "<div>\n",
       "<style scoped>\n",
       "    .dataframe tbody tr th:only-of-type {\n",
       "        vertical-align: middle;\n",
       "    }\n",
       "\n",
       "    .dataframe tbody tr th {\n",
       "        vertical-align: top;\n",
       "    }\n",
       "\n",
       "    .dataframe thead th {\n",
       "        text-align: right;\n",
       "    }\n",
       "</style>\n",
       "<table border=\"1\" class=\"dataframe\">\n",
       "  <thead>\n",
       "    <tr style=\"text-align: right;\">\n",
       "      <th></th>\n",
       "      <th>date</th>\n",
       "      <th>year</th>\n",
       "      <th>type</th>\n",
       "      <th>country</th>\n",
       "      <th>area</th>\n",
       "      <th>location</th>\n",
       "      <th>activity</th>\n",
       "      <th>name</th>\n",
       "      <th>sex</th>\n",
       "      <th>age</th>\n",
       "      <th>injury</th>\n",
       "      <th>fatal</th>\n",
       "      <th>time</th>\n",
       "      <th>species</th>\n",
       "      <th>investigator-or-source</th>\n",
       "      <th>original-order</th>\n",
       "    </tr>\n",
       "  </thead>\n",
       "  <tbody>\n",
       "    <tr>\n",
       "      <th>4938</th>\n",
       "      <td>11-Jul-1934</td>\n",
       "      <td>1934.0</td>\n",
       "      <td>Boating</td>\n",
       "      <td>AUSTRALIA</td>\n",
       "      <td>New South Wales</td>\n",
       "      <td>Cronulla</td>\n",
       "      <td>fishing</td>\n",
       "      <td>18' boat, occupants William &amp; Leslie Newton</td>\n",
       "      <td>N</td>\n",
       "      <td>NaN</td>\n",
       "      <td>No injury to occupants Sharks continually foll...</td>\n",
       "      <td>N</td>\n",
       "      <td>NaN</td>\n",
       "      <td>Blue pointer, 11'</td>\n",
       "      <td>G.P. Whitley, ref: Daily Telegraph, 7/11/1934 ...</td>\n",
       "      <td>1365.0</td>\n",
       "    </tr>\n",
       "    <tr>\n",
       "      <th>6131</th>\n",
       "      <td>Reported 18-Dec-1801</td>\n",
       "      <td>1801.0</td>\n",
       "      <td>Provoked</td>\n",
       "      <td>NaN</td>\n",
       "      <td>NaN</td>\n",
       "      <td>NaN</td>\n",
       "      <td>Standing on landed shark's tail</td>\n",
       "      <td>Stephen Pettigew</td>\n",
       "      <td>N</td>\n",
       "      <td>NaN</td>\n",
       "      <td>FATAL, PROVOKED INCIDENT</td>\n",
       "      <td>Y</td>\n",
       "      <td>NaN</td>\n",
       "      <td>12' shark</td>\n",
       "      <td>The Evening Post, 12/18/1801</td>\n",
       "      <td>172.0</td>\n",
       "    </tr>\n",
       "  </tbody>\n",
       "</table>\n",
       "</div>"
      ],
      "text/plain": [
       "                      date    year      type    country             area   \n",
       "4938           11-Jul-1934  1934.0   Boating  AUSTRALIA  New South Wales  \\\n",
       "6131  Reported 18-Dec-1801  1801.0  Provoked        NaN              NaN   \n",
       "\n",
       "      location                         activity   \n",
       "4938  Cronulla                          fishing  \\\n",
       "6131       NaN  Standing on landed shark's tail   \n",
       "\n",
       "                                             name sex  age   \n",
       "4938  18' boat, occupants William & Leslie Newton   N  NaN  \\\n",
       "6131                             Stephen Pettigew   N  NaN   \n",
       "\n",
       "                                                 injury fatal time   \n",
       "4938  No injury to occupants Sharks continually foll...     N  NaN  \\\n",
       "6131                           FATAL, PROVOKED INCIDENT     Y  NaN   \n",
       "\n",
       "                 species                             investigator-or-source   \n",
       "4938  Blue pointer, 11'   G.P. Whitley, ref: Daily Telegraph, 7/11/1934 ...  \\\n",
       "6131           12' shark                       The Evening Post, 12/18/1801   \n",
       "\n",
       "      original-order  \n",
       "4938          1365.0  \n",
       "6131           172.0  "
      ]
     },
     "execution_count": 113,
     "metadata": {},
     "output_type": "execute_result"
    }
   ],
   "source": [
    "\"\"\" Cleaning the column fatal\"\"\"\n",
    "jaws_renamed.fatal.replace(\"y\", \"Y\", inplace=True)\n",
    "jaws_renamed.fatal.replace({\" N\" : \"N\", \"N \":\"N\"}, inplace=True)\n",
    "\n",
    "jaws_renamed.loc[jaws_renamed['sex'] == \"N\"]\n",
    "#jaws_renamed.fatal.unique()"
   ]
  },
  {
   "cell_type": "code",
   "execution_count": 84,
   "id": "08e37fba",
   "metadata": {},
   "outputs": [
    {
     "data": {
      "text/plain": [
       "3738"
      ]
     },
     "execution_count": 84,
     "metadata": {},
     "output_type": "execute_result"
    }
   ],
   "source": [
    "len(jaws_renamed.injury.unique())\n"
   ]
  }
 ],
 "metadata": {
  "kernelspec": {
   "display_name": "ironhack",
   "language": "python",
   "name": "ironhack"
  },
  "language_info": {
   "codemirror_mode": {
    "name": "ipython",
    "version": 3
   },
   "file_extension": ".py",
   "mimetype": "text/x-python",
   "name": "python",
   "nbconvert_exporter": "python",
   "pygments_lexer": "ipython3",
   "version": "3.10.9"
  }
 },
 "nbformat": 4,
 "nbformat_minor": 5
}
